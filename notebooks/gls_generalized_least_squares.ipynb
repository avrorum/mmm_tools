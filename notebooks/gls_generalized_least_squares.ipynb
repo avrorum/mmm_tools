{
 "cells": [
  {
   "cell_type": "code",
   "execution_count": 1,
   "id": "b3dbce50-3f7a-41e5-86d7-0e18eff477b6",
   "metadata": {},
   "outputs": [
    {
     "name": "stdout",
     "output_type": "stream",
     "text": [
      "GLS Model with Homoscedastic Errors:\n",
      "                            GLS Regression Results                            \n",
      "==============================================================================\n",
      "Dep. Variable:                      y   R-squared:                       0.966\n",
      "Model:                            GLS   Adj. R-squared:                  0.965\n",
      "Method:                 Least Squares   F-statistic:                     1366.\n",
      "Date:                Sat, 16 Dec 2023   Prob (F-statistic):           9.11e-72\n",
      "Time:                        22:50:20   Log-Likelihood:                -147.11\n",
      "No. Observations:                 100   AIC:                             300.2\n",
      "Df Residuals:                      97   BIC:                             308.0\n",
      "Df Model:                           2                                         \n",
      "Covariance Type:            nonrobust                                         \n",
      "==============================================================================\n",
      "                 coef    std err          t      P>|t|      [0.025      0.975]\n",
      "------------------------------------------------------------------------------\n",
      "const          0.0928      0.108      0.859      0.392      -0.122       0.307\n",
      "x1             3.1907      0.126     25.400      0.000       2.941       3.440\n",
      "x2             4.8279      0.108     44.830      0.000       4.614       5.042\n",
      "==============================================================================\n",
      "Omnibus:                        4.136   Durbin-Watson:                   2.212\n",
      "Prob(Omnibus):                  0.126   Jarque-Bera (JB):                3.956\n",
      "Skew:                           0.266   Prob(JB):                        0.138\n",
      "Kurtosis:                       3.817   Cond. No.                         1.23\n",
      "==============================================================================\n",
      "\n",
      "Notes:\n",
      "[1] Standard Errors assume that the covariance matrix of the errors is correctly specified.\n",
      "\n",
      "GLS Model with Heteroscedastic Errors:\n",
      "                            GLS Regression Results                            \n",
      "==============================================================================\n",
      "Dep. Variable:                      y   R-squared:                       0.958\n",
      "Model:                            GLS   Adj. R-squared:                  0.957\n",
      "Method:                 Least Squares   F-statistic:                     1095.\n",
      "Date:                Sat, 16 Dec 2023   Prob (F-statistic):           2.70e-67\n",
      "Time:                        22:50:20   Log-Likelihood:                -159.43\n",
      "No. Observations:                 100   AIC:                             324.9\n",
      "Df Residuals:                      97   BIC:                             332.7\n",
      "Df Model:                           2                                         \n",
      "Covariance Type:            nonrobust                                         \n",
      "==============================================================================\n",
      "                 coef    std err          t      P>|t|      [0.025      0.975]\n",
      "------------------------------------------------------------------------------\n",
      "const          0.2273      0.122      1.860      0.066      -0.015       0.470\n",
      "x1             3.2745      0.142     23.046      0.000       2.992       3.556\n",
      "x2             4.8684      0.122     39.967      0.000       4.627       5.110\n",
      "==============================================================================\n",
      "Omnibus:                       18.856   Durbin-Watson:                   2.143\n",
      "Prob(Omnibus):                  0.000   Jarque-Bera (JB):               54.568\n",
      "Skew:                          -0.548   Prob(JB):                     1.41e-12\n",
      "Kurtosis:                       6.449   Cond. No.                         1.23\n",
      "==============================================================================\n",
      "\n",
      "Notes:\n",
      "[1] Standard Errors assume that the covariance matrix of the errors is correctly specified.\n"
     ]
    }
   ],
   "source": [
    "import numpy as np\n",
    "import statsmodels.api as sm\n",
    "\n",
    "# Simulate some data with heteroscedasticity\n",
    "np.random.seed(42)\n",
    "\n",
    "# Independent variable\n",
    "X = np.random.randn(100, 2)\n",
    "\n",
    "# True coefficients\n",
    "beta = np.array([3, 5])\n",
    "\n",
    "# Homoscedastic errors\n",
    "homoscedastic_errors = np.random.randn(100)\n",
    "\n",
    "# Heteroscedastic errors\n",
    "heteroscedastic_errors = homoscedastic_errors * (1 + X[:, 0])\n",
    "\n",
    "# Dependent variable\n",
    "y_homoscedastic = np.dot(X, beta) + homoscedastic_errors\n",
    "y_heteroscedastic = np.dot(X, beta) + heteroscedastic_errors\n",
    "\n",
    "# GLS for homoscedastic errors\n",
    "X_with_constant = sm.add_constant(X)\n",
    "model_homoscedastic = sm.GLS(y_homoscedastic, X_with_constant).fit()\n",
    "\n",
    "# GLS for heteroscedastic errors\n",
    "model_heteroscedastic = sm.GLS(y_heteroscedastic, X_with_constant).fit()\n",
    "\n",
    "# Print results\n",
    "print(\"GLS Model with Homoscedastic Errors:\")\n",
    "print(model_homoscedastic.summary())\n",
    "\n",
    "print(\"\\nGLS Model with Heteroscedastic Errors:\")\n",
    "print(model_heteroscedastic.summary())\n"
   ]
  },
  {
   "cell_type": "code",
   "execution_count": 2,
   "id": "255c270f-cd1b-448f-b627-86ad5f320713",
   "metadata": {},
   "outputs": [
    {
     "data": {
      "text/plain": [
       "(0.5639774659130293, 0.9760688737427009)"
      ]
     },
     "execution_count": 2,
     "metadata": {},
     "output_type": "execute_result"
    }
   ],
   "source": [
    "sm.stats.linear_rainbow(model_heteroscedastic)"
   ]
  },
  {
   "cell_type": "code",
   "execution_count": null,
   "id": "f039af11-2cf0-4870-bb27-f36554d13cf3",
   "metadata": {},
   "outputs": [],
   "source": [
    "sm.graphics.plot_partregress(data=df, obs_labels=False)"
   ]
  },
  {
   "cell_type": "code",
   "execution_count": 3,
   "id": "a90abe49-03c5-4b1a-bd40-c00e1cbe9bf0",
   "metadata": {},
   "outputs": [
    {
     "data": {
      "text/plain": [
       "array([  1.33432636,  10.48221313,  -1.04369377,  11.29279185,\n",
       "         0.57348817,  -4.22212217,  -8.20086004,  -8.35864374,\n",
       "        -1.47386534,  -9.43123219,   4.67568029,  -5.70890797,\n",
       "        -0.64387554,  -1.67284654,  -3.38629116,   7.75856351,\n",
       "        -6.09144054,  -4.06819606,  -9.75849816,  -3.02712192,\n",
       "         7.09619771,  -3.50378251,  -8.36317761,   3.0338584 ,\n",
       "        -8.41844219,   0.48870254,   1.0483829 ,   5.56050003,\n",
       "        -4.17872275,   6.77623956,  -2.74621135,  -9.32305516,\n",
       "         9.30137775,   4.1969556 ,   0.77858081,   9.63738422,\n",
       "         5.76315041,  -4.05173125,  -1.95328858,  -8.73190896,\n",
       "         0.50812098,   1.5580263 ,  -4.83755773,   6.04823123,\n",
       "         0.41262942,   4.7674838 ,  -3.8859785 ,  -8.89105271,\n",
       "         4.48187823,  -0.75054273,  -5.82560454,  -4.43623256,\n",
       "         3.31627987,   9.51133345,  -1.5102627 ,  -5.4439827 ,\n",
       "        13.84011867,   0.35911233,  -5.51911183,   8.84803713,\n",
       "        -3.83400352,  -2.94389957,   7.56942134,  -5.81279209,\n",
       "        -2.49616109,  -3.62206685,  -0.92065427,   4.87616459,\n",
       "        -4.05544565,  -3.47666964,   8.98719879,  -3.02701823,\n",
       "         6.15421274, -10.31555993,   1.55694925,   3.06157669,\n",
       "        -0.8151115 ,  -3.46866359,   8.16652517,  -0.21743061,\n",
       "         1.01425208,   0.80164749,   8.06798058,   9.69477109,\n",
       "        -2.89523284,  -6.96327225,   1.33437254,   5.71708781,\n",
       "         7.59132136,  12.3489775 ,  -2.74712329,  -0.76536535,\n",
       "         2.44195045,   2.30723409, -10.05992026,   2.55893401,\n",
       "        -4.49421408,   2.80664761,  -1.78853889,  -4.8739466 ])"
      ]
     },
     "execution_count": 3,
     "metadata": {},
     "output_type": "execute_result"
    }
   ],
   "source": [
    "y_heteroscedastic"
   ]
  },
  {
   "cell_type": "code",
   "execution_count": null,
   "id": "f4993dc7-0f8a-4933-a3d4-249b20c2a736",
   "metadata": {},
   "outputs": [],
   "source": []
  }
 ],
 "metadata": {
  "kernelspec": {
   "display_name": "Python 3 (ipykernel)",
   "language": "python",
   "name": "python3"
  },
  "language_info": {
   "codemirror_mode": {
    "name": "ipython",
    "version": 3
   },
   "file_extension": ".py",
   "mimetype": "text/x-python",
   "name": "python",
   "nbconvert_exporter": "python",
   "pygments_lexer": "ipython3",
   "version": "3.9.17"
  }
 },
 "nbformat": 4,
 "nbformat_minor": 5
}
